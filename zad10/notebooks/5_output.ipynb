{
 "cells": [
  {
   "cell_type": "code",
   "execution_count": 1,
   "id": "cd56e9d4-9b93-40bd-af69-0f361c163df0",
   "metadata": {},
   "outputs": [],
   "source": [
    "from zad11 import connect, load_table, process"
   ]
  },
  {
   "cell_type": "code",
   "execution_count": 2,
   "id": "47a186bd-e487-4535-bbcb-efc15e701bb2",
   "metadata": {},
   "outputs": [
    {
     "name": "stdout",
     "output_type": "stream",
     "text": [
      "Connecting to Spark...\n"
     ]
    },
    {
     "name": "stderr",
     "output_type": "stream",
     "text": [
      "Setting default log level to \"WARN\".\n",
      "To adjust logging level use sc.setLogLevel(newLevel). For SparkR, use setLogLevel(newLevel).\n",
      "25/06/10 08:17:42 WARN NativeCodeLoader: Unable to load native-hadoop library for your platform... using builtin-java classes where applicable\n",
      "25/06/10 08:17:44 WARN Client: Neither spark.yarn.jars nor spark.yarn.archive is set, falling back to uploading libraries under SPARK_HOME.\n"
     ]
    },
    {
     "data": {
      "text/html": [
       "\n",
       "            <div>\n",
       "                <p><b>SparkSession - in-memory</b></p>\n",
       "                \n",
       "        <div>\n",
       "            <p><b>SparkContext</b></p>\n",
       "\n",
       "            <p><a href=\"http://jupyter-lab:4040\">Spark UI</a></p>\n",
       "\n",
       "            <dl>\n",
       "              <dt>Version</dt>\n",
       "                <dd><code>v3.4.0</code></dd>\n",
       "              <dt>Master</dt>\n",
       "                <dd><code>yarn</code></dd>\n",
       "              <dt>AppName</dt>\n",
       "                <dd><code>Zad11</code></dd>\n",
       "            </dl>\n",
       "        </div>\n",
       "        \n",
       "            </div>\n",
       "        "
      ],
      "text/plain": [
       "<pyspark.sql.session.SparkSession at 0x7c183c209390>"
      ]
     },
     "metadata": {},
     "output_type": "display_data"
    }
   ],
   "source": [
    "spark = connect()"
   ]
  },
  {
   "cell_type": "code",
   "execution_count": null,
   "id": "304674f1-f04a-4383-9680-fb82ab368c0a",
   "metadata": {},
   "outputs": [
    {
     "name": "stdout",
     "output_type": "stream",
     "text": [
      "Loading '/charts_genre_popularity' into table 'charts_genre_popularity'...\n"
     ]
    },
    {
     "name": "stderr",
     "output_type": "stream",
     "text": [
      "                                                                                \r"
     ]
    }
   ],
   "source": [
    "load_table(spark, \"/charts_genre_popularity\")"
   ]
  },
  {
   "cell_type": "code",
   "execution_count": null,
   "id": "8d4cf5ff-7e9a-4cfa-bf53-4761f0a634af",
   "metadata": {},
   "outputs": [],
   "source": [
    "load_table(spark, \"/input/charts_daily_popularity.csv\")"
   ]
  },
  {
   "cell_type": "code",
   "execution_count": null,
   "id": "15493dc1-dd95-40c7-918f-23f1497b31bf",
   "metadata": {},
   "outputs": [],
   "source": [
    "load_table(spark, \"/input/charts_daily_sum.csv\", header=[\"region\", \"date\", \"streams\"])"
   ]
  },
  {
   "cell_type": "code",
   "execution_count": null,
   "id": "dcd3984b-f3a7-4369-8142-032f2878318e",
   "metadata": {},
   "outputs": [],
   "source": [
    "load_table(spark, \"/input/daily_country_weather.csv\")"
   ]
  },
  {
   "cell_type": "code",
   "execution_count": null,
   "id": "2fccd9b2-ea25-403d-b7da-1a99171773c5",
   "metadata": {},
   "outputs": [],
   "source": [
    "load_table(spark, \"/input/wdi_interpolated.csv\")"
   ]
  },
  {
   "cell_type": "code",
   "execution_count": null,
   "id": "0b7ba38a-fbff-44be-8968-a04ff5fa10d9",
   "metadata": {},
   "outputs": [],
   "source": [
    "process(spark, \"output\", \"\"\"\n",
    "SELECT\n",
    "    cgp.region AS country,\n",
    "    cgp.date,\n",
    "    cds.streams AS daily_streams,\n",
    "    cdp.popularity AS daily_popularity,\n",
    "    dcw.temperature_c AS temperature_c,\n",
    "    dcw.precipitation_mm AS precipitation_mm,\n",
    "    wdi.rural_population_percent AS `wdi:rural_population_percent`,\n",
    "    wdi.fertility_rate AS `wdi:fertility_rate`,\n",
    "    wdi.gdp_per_capita_usd AS `wdi:gdp_per_capita_usd`,\n",
    "    wdi.mobile_subscriptions_per_100 AS `wdi:mobile_subscriptions_per_100`,\n",
    "    wdi.refugee_population_promille AS `wdi:refugee_population_promille`,\n",
    "    cgp.pop AS `genre:pop`,\n",
    "    cgp.rap AS `genre:rap`,\n",
    "    cgp.rock AS `genre:rock`,\n",
    "    cgp.edm AS `genre:edm`,\n",
    "    cgp.hip_hop AS `genre:hip_hop`,\n",
    "    cgp.trap_latino AS `genre:trap_latino`,\n",
    "    cgp.reggaeton AS `genre:reggaeton`,\n",
    "    cgp.electropop AS `genre:electropop`,\n",
    "    cgp.dance_pop AS `genre:dance_pop`,\n",
    "    cgp.pop_rap AS `genre:pop_rap`,\n",
    "    cgp.musica_mexicana AS `genre:musica_mexicana`,\n",
    "    cgp.trap AS `genre:trap`,\n",
    "    cgp.modern_rock AS `genre:modern_rock`,\n",
    "    cgp.classic_rock AS `genre:classic_rock`,\n",
    "    cgp.uk_pop AS `genre:uk_pop`,\n",
    "    cgp.k_pop AS `genre:k_pop`,\n",
    "    cgp.tropical_house AS `genre:tropical_house`,\n",
    "    cgp.melodic_rap AS `genre:melodic_rap`,\n",
    "    cgp.canadian_pop AS `genre:canadian_pop`,\n",
    "    cgp.modern_bollywood AS `genre:modern_bollywood`\n",
    "FROM charts_genre_popularity AS cgp\n",
    "JOIN charts_daily_popularity AS cdp\n",
    "    ON cgp.region = cdp.region AND cgp.date = cdp.date\n",
    "JOIN charts_daily_sum AS cds\n",
    "    ON cgp.region = cds.region AND cgp.date = cds.date\n",
    "JOIN daily_country_weather AS dcw\n",
    "    ON cgp.region = dcw.country AND cgp.date = dcw.date\n",
    "JOIN wdi_interpolated AS wdi\n",
    "    ON cgp.region = wdi.country AND cgp.date = wdi.date\n",
    "ORDER BY cgp.region, cgp.date\n",
    "\"\"\")"
   ]
  },
  {
   "cell_type": "code",
   "execution_count": null,
   "id": "d8192cc4-814a-48a8-90d0-3bebca379394",
   "metadata": {},
   "outputs": [],
   "source": [
    "spark.stop()"
   ]
  }
 ],
 "metadata": {
  "kernelspec": {
   "display_name": "Python 3 (ipykernel)",
   "language": "python",
   "name": "python3"
  },
  "language_info": {
   "codemirror_mode": {
    "name": "ipython",
    "version": 3
   },
   "file_extension": ".py",
   "mimetype": "text/x-python",
   "name": "python",
   "nbconvert_exporter": "python",
   "pygments_lexer": "ipython3",
   "version": "3.11.2"
  }
 },
 "nbformat": 4,
 "nbformat_minor": 5
}
