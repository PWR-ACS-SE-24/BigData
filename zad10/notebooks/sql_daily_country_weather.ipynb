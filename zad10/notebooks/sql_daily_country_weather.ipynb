{
 "cells": [
  {
   "cell_type": "code",
   "execution_count": 1,
   "id": "b735b9f5-391b-4db8-984d-2bb3a296309a",
   "metadata": {},
   "outputs": [],
   "source": [
    "from zad11 import connect, load_table, process"
   ]
  },
  {
   "cell_type": "code",
   "execution_count": null,
   "id": "e1a9c494-e6a1-4ffa-afc2-2bbc4166600c",
   "metadata": {},
   "outputs": [
    {
     "name": "stdout",
     "output_type": "stream",
     "text": [
      "Connecting to Spark...\n"
     ]
    }
   ],
   "source": [
    "spark = connect()"
   ]
  },
  {
   "cell_type": "code",
   "execution_count": null,
   "id": "e8cf67e1-f514-4b36-a02b-09dec420d0dc",
   "metadata": {},
   "outputs": [],
   "source": [
    "load_table(spark, \"/input/daily_weather_2017.csv\")"
   ]
  },
  {
   "cell_type": "code",
   "execution_count": null,
   "id": "3c05a48d-b0a0-48cf-b4f4-dcbeca8b2ed2",
   "metadata": {},
   "outputs": [],
   "source": [
    "load_table(spark, \"/input/cities.csv\")"
   ]
  },
  {
   "cell_type": "code",
   "execution_count": null,
   "id": "569fec65-9ecc-449d-a920-473ebff5770e",
   "metadata": {},
   "outputs": [],
   "source": [
    "process(spark, \"daily_country_weather\", \"\"\"\n",
    "SELECT\n",
    "    c.country,\n",
    "    w.date,\n",
    "    AVG(w.temperature_c) as temperature_c,\n",
    "    COALESCE(AVG(w.precipitation_mm), 0) as precipitation_mm\n",
    "FROM (\n",
    "    SELECT\n",
    "        station_id,\n",
    "        to_date(date) as date,\n",
    "        avg_temp_c as temperature_c,\n",
    "        precipitation_mm\n",
    "    FROM daily_weather_2017\n",
    "    WHERE date BETWEEN '2017-01-01' AND '2021-12-31'\n",
    ") AS w\n",
    "JOIN cities AS c\n",
    "    ON w.station_id = c.station_id\n",
    "GROUP BY c.country, w.date\n",
    "HAVING temperature_c IS NOT NULL\n",
    "ORDER BY c.country, w.date\n",
    "\"\"\")"
   ]
  },
  {
   "cell_type": "code",
   "execution_count": null,
   "id": "c0f9d670-7be2-4d94-b13c-190207f840e0",
   "metadata": {},
   "outputs": [],
   "source": [
    "spark.stop()"
   ]
  }
 ],
 "metadata": {
  "kernelspec": {
   "display_name": "Python 3 (ipykernel)",
   "language": "python",
   "name": "python3"
  },
  "language_info": {
   "codemirror_mode": {
    "name": "ipython",
    "version": 3
   },
   "file_extension": ".py",
   "mimetype": "text/x-python",
   "name": "python",
   "nbconvert_exporter": "python",
   "pygments_lexer": "ipython3",
   "version": "3.11.2"
  }
 },
 "nbformat": 4,
 "nbformat_minor": 5
}
