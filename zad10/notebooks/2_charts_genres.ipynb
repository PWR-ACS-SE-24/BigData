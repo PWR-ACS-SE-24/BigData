{
 "cells": [
  {
   "cell_type": "code",
   "execution_count": 1,
   "id": "7430a98d-af94-47c9-9545-627c59434517",
   "metadata": {},
   "outputs": [],
   "source": [
    "from zad11 import connect, load_table, process"
   ]
  },
  {
   "cell_type": "code",
   "execution_count": 2,
   "id": "07e37d04-74cf-438f-8379-e270666d2afc",
   "metadata": {},
   "outputs": [
    {
     "name": "stdout",
     "output_type": "stream",
     "text": [
      "Connecting to Spark...\n"
     ]
    },
    {
     "name": "stderr",
     "output_type": "stream",
     "text": [
      "Setting default log level to \"WARN\".\n",
      "To adjust logging level use sc.setLogLevel(newLevel). For SparkR, use setLogLevel(newLevel).\n",
      "25/06/10 16:58:51 WARN NativeCodeLoader: Unable to load native-hadoop library for your platform... using builtin-java classes where applicable\n",
      "25/06/10 16:58:52 WARN Client: Neither spark.yarn.jars nor spark.yarn.archive is set, falling back to uploading libraries under SPARK_HOME.\n"
     ]
    },
    {
     "data": {
      "text/html": [
       "\n",
       "            <div>\n",
       "                <p><b>SparkSession - in-memory</b></p>\n",
       "                \n",
       "        <div>\n",
       "            <p><b>SparkContext</b></p>\n",
       "\n",
       "            <p><a href=\"http://jupyter-lab:4040\">Spark UI</a></p>\n",
       "\n",
       "            <dl>\n",
       "              <dt>Version</dt>\n",
       "                <dd><code>v3.4.0</code></dd>\n",
       "              <dt>Master</dt>\n",
       "                <dd><code>yarn</code></dd>\n",
       "              <dt>AppName</dt>\n",
       "                <dd><code>Zad11</code></dd>\n",
       "            </dl>\n",
       "        </div>\n",
       "        \n",
       "            </div>\n",
       "        "
      ],
      "text/plain": [
       "<pyspark.sql.session.SparkSession at 0x7587d4221410>"
      ]
     },
     "metadata": {},
     "output_type": "display_data"
    }
   ],
   "source": [
    "spark = connect()"
   ]
  },
  {
   "cell_type": "code",
   "execution_count": 3,
   "id": "98a67db4-8613-4652-917f-f2342b47b59f",
   "metadata": {},
   "outputs": [
    {
     "name": "stdout",
     "output_type": "stream",
     "text": [
      "Loading '/input/charts_fmt.csv' into table 'charts_fmt'...\n"
     ]
    },
    {
     "name": "stderr",
     "output_type": "stream",
     "text": [
      "                                                                                \r"
     ]
    },
    {
     "data": {
      "text/plain": [
       "DataFrame[region: string, date: string, track_id: string, streams: string]"
      ]
     },
     "execution_count": 3,
     "metadata": {},
     "output_type": "execute_result"
    }
   ],
   "source": [
    "load_table(spark, \"/input/charts_fmt.csv\", header=[\"region\", \"date\", \"track_id\", \"streams\"])"
   ]
  },
  {
   "cell_type": "code",
   "execution_count": 4,
   "id": "1f959e9f-36da-4655-9703-b8a15e938fdb",
   "metadata": {},
   "outputs": [
    {
     "name": "stdout",
     "output_type": "stream",
     "text": [
      "Loading '/input/api_track_to_genre.csv' into table 'api_track_to_genre'...\n"
     ]
    },
    {
     "data": {
      "text/plain": [
       "DataFrame[track_id: string, genre: string]"
      ]
     },
     "execution_count": 4,
     "metadata": {},
     "output_type": "execute_result"
    }
   ],
   "source": [
    "load_table(spark, \"/input/api_track_to_genre.csv\")"
   ]
  },
  {
   "cell_type": "code",
   "execution_count": 5,
   "id": "e0d0a5d2-fa27-44b9-93c3-2fc52d0295df",
   "metadata": {},
   "outputs": [
    {
     "name": "stdout",
     "output_type": "stream",
     "text": [
      "Processing query and saving to '/charts_genres/*'...\n"
     ]
    },
    {
     "name": "stderr",
     "output_type": "stream",
     "text": [
      "                                                                                \r"
     ]
    },
    {
     "name": "stdout",
     "output_type": "stream",
     "text": [
      "Execution time: 10.424 seconds\n"
     ]
    },
    {
     "name": "stderr",
     "output_type": "stream",
     "text": [
      "                                                                                \r"
     ]
    },
    {
     "name": "stdout",
     "output_type": "stream",
     "text": [
      "+------+----------+--------------------+-------+\n",
      "|region|      date|               genre|streams|\n",
      "+------+----------+--------------------+-------+\n",
      "|Brazil|2017-05-19|           sertanejo|  40092|\n",
      "|Brazil|2017-05-19|sertanejo univers...|  40092|\n",
      "|Brazil|2017-05-19|             arrocha|  40092|\n",
      "|Brazil|2017-05-19|       sertanejo pop|  40092|\n",
      "|Brazil|2017-05-20|           sertanejo|  40619|\n",
      "|Brazil|2017-05-20|sertanejo univers...|  40619|\n",
      "|Brazil|2017-05-20|             arrocha|  40619|\n",
      "|Brazil|2017-05-20|       sertanejo pop|  40619|\n",
      "|Brazil|2017-05-21|           sertanejo|  34166|\n",
      "|Brazil|2017-05-21|sertanejo univers...|  34166|\n",
      "|Brazil|2017-05-21|             arrocha|  34166|\n",
      "|Brazil|2017-05-21|       sertanejo pop|  34166|\n",
      "|Brazil|2017-03-29|           sertanejo|  64711|\n",
      "|Brazil|2017-03-29|sertanejo univers...|  64711|\n",
      "|Brazil|2017-03-29|             arrocha|  64711|\n",
      "|Brazil|2017-03-29|       sertanejo pop|  64711|\n",
      "|Brazil|2017-03-30|           sertanejo|  66419|\n",
      "|Brazil|2017-03-30|sertanejo univers...|  66419|\n",
      "|Brazil|2017-03-30|             arrocha|  66419|\n",
      "|Brazil|2017-03-30|       sertanejo pop|  66419|\n",
      "+------+----------+--------------------+-------+\n",
      "only showing top 20 rows\n",
      "\n"
     ]
    },
    {
     "name": "stderr",
     "output_type": "stream",
     "text": [
      "                                                                                \r"
     ]
    }
   ],
   "source": [
    "process(spark, \"charts_genres\", \"\"\"\n",
    "SELECT\n",
    "    c.region,\n",
    "    c.date,\n",
    "    t.genre,\n",
    "    c.streams\n",
    "FROM charts_fmt AS c\n",
    "JOIN api_track_to_genre AS t\n",
    "    ON c.track_id = t.track_id\n",
    "\"\"\")"
   ]
  },
  {
   "cell_type": "code",
   "execution_count": 6,
   "id": "2314889b-9b85-4972-b937-dbc30b4a4422",
   "metadata": {},
   "outputs": [],
   "source": [
    "spark.stop()"
   ]
  }
 ],
 "metadata": {
  "kernelspec": {
   "display_name": "Python 3 (ipykernel)",
   "language": "python",
   "name": "python3"
  },
  "language_info": {
   "codemirror_mode": {
    "name": "ipython",
    "version": 3
   },
   "file_extension": ".py",
   "mimetype": "text/x-python",
   "name": "python",
   "nbconvert_exporter": "python",
   "pygments_lexer": "ipython3",
   "version": "3.11.2"
  }
 },
 "nbformat": 4,
 "nbformat_minor": 5
}
