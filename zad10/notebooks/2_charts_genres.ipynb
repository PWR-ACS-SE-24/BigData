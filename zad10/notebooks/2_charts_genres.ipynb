{
 "cells": [
  {
   "cell_type": "code",
   "execution_count": 1,
   "id": "7430a98d-af94-47c9-9545-627c59434517",
   "metadata": {},
   "outputs": [],
   "source": [
    "from zad11 import connect, load_table, process"
   ]
  },
  {
   "cell_type": "code",
   "execution_count": null,
   "id": "07e37d04-74cf-438f-8379-e270666d2afc",
   "metadata": {},
   "outputs": [
    {
     "name": "stdout",
     "output_type": "stream",
     "text": [
      "Connecting to Spark...\n"
     ]
    },
    {
     "name": "stderr",
     "output_type": "stream",
     "text": [
      "Setting default log level to \"WARN\".\n",
      "To adjust logging level use sc.setLogLevel(newLevel). For SparkR, use setLogLevel(newLevel).\n",
      "25/06/10 08:07:02 WARN NativeCodeLoader: Unable to load native-hadoop library for your platform... using builtin-java classes where applicable\n",
      "25/06/10 08:07:05 WARN Client: Neither spark.yarn.jars nor spark.yarn.archive is set, falling back to uploading libraries under SPARK_HOME.\n"
     ]
    }
   ],
   "source": [
    "spark = connect()"
   ]
  },
  {
   "cell_type": "code",
   "execution_count": null,
   "id": "98a67db4-8613-4652-917f-f2342b47b59f",
   "metadata": {},
   "outputs": [],
   "source": [
    "load_table(spark, \"/input/charts_fmt.csv\", header=[\"region\", \"date\", \"track_id\", \"streams\"])"
   ]
  },
  {
   "cell_type": "code",
   "execution_count": null,
   "id": "1f959e9f-36da-4655-9703-b8a15e938fdb",
   "metadata": {},
   "outputs": [],
   "source": [
    "load_table(spark, \"/input/api_track_to_genre.csv\")"
   ]
  },
  {
   "cell_type": "code",
   "execution_count": null,
   "id": "e0d0a5d2-fa27-44b9-93c3-2fc52d0295df",
   "metadata": {},
   "outputs": [],
   "source": [
    "process(spark, \"charts_genres\", \"\"\"\n",
    "SELECT\n",
    "    c.region,\n",
    "    c.date,\n",
    "    t.genre,\n",
    "    c.streams\n",
    "FROM charts_fmt AS c\n",
    "JOIN api_track_to_genre AS t\n",
    "    ON c.track_id = t.track_id\n",
    "\"\"\")"
   ]
  },
  {
   "cell_type": "code",
   "execution_count": null,
   "id": "2314889b-9b85-4972-b937-dbc30b4a4422",
   "metadata": {},
   "outputs": [],
   "source": [
    "spark.stop()"
   ]
  }
 ],
 "metadata": {
  "kernelspec": {
   "display_name": "Python 3 (ipykernel)",
   "language": "python",
   "name": "python3"
  },
  "language_info": {
   "codemirror_mode": {
    "name": "ipython",
    "version": 3
   },
   "file_extension": ".py",
   "mimetype": "text/x-python",
   "name": "python",
   "nbconvert_exporter": "python",
   "pygments_lexer": "ipython3",
   "version": "3.11.2"
  }
 },
 "nbformat": 4,
 "nbformat_minor": 5
}
