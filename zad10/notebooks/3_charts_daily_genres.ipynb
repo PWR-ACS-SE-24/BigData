{
 "cells": [
  {
   "cell_type": "code",
   "execution_count": 1,
   "id": "13906fcf-e378-4255-8a44-b1761f19662f",
   "metadata": {},
   "outputs": [],
   "source": [
    "from zad11 import connect, load_table, process"
   ]
  },
  {
   "cell_type": "code",
   "execution_count": 2,
   "id": "52cb183f-d257-4bce-8d15-020723b2dafb",
   "metadata": {},
   "outputs": [
    {
     "name": "stdout",
     "output_type": "stream",
     "text": [
      "Connecting to Spark...\n"
     ]
    },
    {
     "name": "stderr",
     "output_type": "stream",
     "text": [
      "Setting default log level to \"WARN\".\n",
      "To adjust logging level use sc.setLogLevel(newLevel). For SparkR, use setLogLevel(newLevel).\n",
      "25/06/10 17:26:58 WARN NativeCodeLoader: Unable to load native-hadoop library for your platform... using builtin-java classes where applicable\n",
      "25/06/10 17:26:59 WARN Client: Neither spark.yarn.jars nor spark.yarn.archive is set, falling back to uploading libraries under SPARK_HOME.\n"
     ]
    },
    {
     "data": {
      "text/html": [
       "\n",
       "            <div>\n",
       "                <p><b>SparkSession - in-memory</b></p>\n",
       "                \n",
       "        <div>\n",
       "            <p><b>SparkContext</b></p>\n",
       "\n",
       "            <p><a href=\"http://jupyter-lab:4040\">Spark UI</a></p>\n",
       "\n",
       "            <dl>\n",
       "              <dt>Version</dt>\n",
       "                <dd><code>v3.4.0</code></dd>\n",
       "              <dt>Master</dt>\n",
       "                <dd><code>yarn</code></dd>\n",
       "              <dt>AppName</dt>\n",
       "                <dd><code>Zad11</code></dd>\n",
       "            </dl>\n",
       "        </div>\n",
       "        \n",
       "            </div>\n",
       "        "
      ],
      "text/plain": [
       "<pyspark.sql.session.SparkSession at 0x7723acfb9450>"
      ]
     },
     "metadata": {},
     "output_type": "display_data"
    }
   ],
   "source": [
    "spark = connect()"
   ]
  },
  {
   "cell_type": "code",
   "execution_count": 3,
   "id": "f817cc5c-995c-4aa8-bd9d-d52215570de1",
   "metadata": {},
   "outputs": [
    {
     "name": "stdout",
     "output_type": "stream",
     "text": [
      "Loading '/charts_genres' into table 'charts_genres'...\n"
     ]
    },
    {
     "name": "stderr",
     "output_type": "stream",
     "text": [
      "                                                                                \r"
     ]
    },
    {
     "data": {
      "text/plain": [
       "DataFrame[region: string, date: string, genre: string, streams: string]"
      ]
     },
     "execution_count": 3,
     "metadata": {},
     "output_type": "execute_result"
    }
   ],
   "source": [
    "load_table(spark, \"/charts_genres\")"
   ]
  },
  {
   "cell_type": "code",
   "execution_count": 4,
   "id": "d7f67530-194f-47db-acc0-20f05e6b8591",
   "metadata": {},
   "outputs": [
    {
     "name": "stdout",
     "output_type": "stream",
     "text": [
      "Processing query and saving to '/charts_daily_genres/*'...\n"
     ]
    },
    {
     "name": "stderr",
     "output_type": "stream",
     "text": [
      "                                                                                \r"
     ]
    },
    {
     "name": "stdout",
     "output_type": "stream",
     "text": [
      "Execution time: 18.217 seconds\n"
     ]
    },
    {
     "name": "stderr",
     "output_type": "stream",
     "text": [
      "                                                                                \r"
     ]
    },
    {
     "name": "stdout",
     "output_type": "stream",
     "text": [
      "+---------+----------+---------+--------+-------+--------+--------+-----------+---------+----------+---------+--------+---------------+-------+-----------+------------+--------+-----+--------------+-----------+------------+----------------+\n",
      "|   region|      date|      pop|     rap|   rock|     edm| hip_hop|trap_latino|reggaeton|electropop|dance_pop| pop_rap|musica_mexicana|   trap|modern_rock|classic_rock|  uk_pop|k_pop|tropical_house|melodic_rap|canadian_pop|modern_bollywood|\n",
      "+---------+----------+---------+--------+-------+--------+--------+-----------+---------+----------+---------+--------+---------------+-------+-----------+------------+--------+-----+--------------+-----------+------------+----------------+\n",
      "|Argentina|2017-01-01|1092346.0|406152.0|58194.0|498779.0|384572.0|  2561509.0|2860676.0|  161859.0|1434536.0|605275.0|            0.0|46032.0|    58194.0|         0.0|272534.0|  0.0|      287511.0|        0.0|    401484.0|             0.0|\n",
      "|Argentina|2017-01-02|1120185.0|350652.0|65284.0|473179.0|325933.0|  2038126.0|2265312.0|  175569.0|1192096.0|497748.0|            0.0|59470.0|    65284.0|         0.0|328297.0|  0.0|      285278.0|    14454.0|    376746.0|             0.0|\n",
      "|Argentina|2017-01-03|1125108.0|343195.0|64927.0|485874.0|316478.0|  1981032.0|2215870.0|  191624.0|1184483.0|493673.0|            0.0|58841.0|    64927.0|         0.0|346667.0|  0.0|      301853.0|    14066.0|    366111.0|             0.0|\n",
      "|Argentina|2017-01-04|1175079.0|353022.0|63604.0|517075.0|318541.0|  1994011.0|2220783.0|  219278.0|1265234.0|507188.0|            0.0|51108.0|    63604.0|         0.0|346247.0|  0.0|      330316.0|    13869.0|    358781.0|             0.0|\n",
      "|Argentina|2017-01-05|1198952.0|360526.0|66545.0|548225.0|316412.0|  2039979.0|2302586.0|  217451.0|1307859.0|531318.0|            0.0|48468.0|    66545.0|         0.0|362467.0|  0.0|      348824.0|    14129.0|    348781.0|             0.0|\n",
      "|Argentina|2017-01-06|1321016.0|362649.0|66431.0|568466.0|317132.0|  2107927.0|2382989.0|  216368.0|1316882.0|536704.0|            0.0|46874.0|    66431.0|         0.0|474042.0|  0.0|      365175.0|    14572.0|    348572.0|             0.0|\n",
      "|Argentina|2017-01-07|1223928.0|354930.0|63391.0|561204.0|319183.0|  2225575.0|2490939.0|  219131.0|1306887.0|533614.0|            0.0|32569.0|    63391.0|         0.0|441259.0|  0.0|      357014.0|    13666.0|    328092.0|             0.0|\n",
      "|Argentina|2017-01-08|1004465.0|290497.0|55342.0|455950.0|261865.0|  1874413.0|2115345.0|  176743.0|1049257.0|442864.0|            0.0|26993.0|    55342.0|         0.0|364556.0|  0.0|      287436.0|    11613.0|    265027.0|             0.0|\n",
      "|Argentina|2017-01-09|1222993.0|316863.0|63627.0|535792.0|282498.0|  1878890.0|2125606.0|  206488.0|1211454.0|491904.0|            0.0|31556.0|    63627.0|         0.0|435340.0|  0.0|      342854.0|    13939.0|    316537.0|             0.0|\n",
      "|Argentina|2017-01-10|1203696.0|317411.0|62189.0|531305.0|282473.0|  1874319.0|2122219.0|  209709.0|1211399.0|495559.0|            0.0|30481.0|    62189.0|         0.0|433272.0|  0.0|      335772.0|    13000.0|    318454.0|             0.0|\n",
      "|Argentina|2017-01-11|1279669.0|338863.0|63372.0|568588.0|300907.0|  2018212.0|2283759.0|  224350.0|1299555.0|528613.0|            0.0|31148.0|    63372.0|         0.0|458949.0|  0.0|      357826.0|    12883.0|    336084.0|             0.0|\n",
      "|Argentina|2017-01-12|1280969.0|337246.0|64959.0|582400.0|300935.0|  2059890.0|2341124.0|  218192.0|1316731.0|540860.0|            0.0|31326.0|    64959.0|         0.0|456135.0|  0.0|      372026.0|    12889.0|    318475.0|             0.0|\n",
      "|Argentina|2017-01-13|1284857.0|327378.0|63888.0|579846.0|293314.0|  2081765.0|2366744.0|  215492.0|1292566.0|534002.0|            0.0|31055.0|    63888.0|         0.0|459892.0|  0.0|      370355.0|    12898.0|    323163.0|             0.0|\n",
      "|Argentina|2017-01-14|1262368.0|318721.0|63701.0|580287.0|283602.0|  2304921.0|2593744.0|  219440.0|1331394.0|547683.0|            0.0|17998.0|    63701.0|         0.0|476792.0|  0.0|      363320.0|        0.0|    303514.0|             0.0|\n",
      "|Argentina|2017-01-15|1046829.0|264209.0|56574.0|474775.0|235660.0|  1931001.0|2176781.0|  179288.0|1086813.0|455411.0|            0.0|14806.0|    56574.0|         0.0|398062.0|  0.0|      296866.0|        0.0|    249272.0|             0.0|\n",
      "|Argentina|2017-01-16|1239859.0|298327.0|64418.0|545108.0|264772.0|  2013390.0|2265110.0|  207659.0|1215170.0|497720.0|            0.0|29276.0|    64418.0|         0.0|465492.0|  0.0|      346180.0|    12164.0|    297224.0|             0.0|\n",
      "|Argentina|2017-01-17|1256431.0|310127.0|63018.0|556983.0|274259.0|  2170339.0|2418937.0|  217537.0|1261363.0|518279.0|            0.0|29383.0|    63018.0|         0.0|477567.0|  0.0|      347672.0|    12183.0|    295820.0|             0.0|\n",
      "|Argentina|2017-01-18|1289232.0|308619.0|62235.0|565792.0|270488.0|  2255069.0|2523602.0|  227111.0|1302361.0|524871.0|            0.0|17727.0|    62235.0|         0.0|485225.0|  0.0|      349678.0|        0.0|    303817.0|             0.0|\n",
      "|Argentina|2017-01-19|1212009.0|298770.0|62244.0|542147.0|263169.0|  2245967.0|2501412.0|  217589.0|1243077.0|515071.0|            0.0|17271.0|    62244.0|         0.0|468000.0|  0.0|      339655.0|        0.0|    291615.0|             0.0|\n",
      "|Argentina|2017-01-20|1244132.0|295685.0|60521.0|556236.0|261869.0|  2355527.0|2630105.0|  215207.0|1277810.0|548154.0|            0.0|17492.0|    60521.0|         0.0|478850.0|  0.0|      351368.0|        0.0|    302585.0|             0.0|\n",
      "+---------+----------+---------+--------+-------+--------+--------+-----------+---------+----------+---------+--------+---------------+-------+-----------+------------+--------+-----+--------------+-----------+------------+----------------+\n",
      "only showing top 20 rows\n",
      "\n"
     ]
    },
    {
     "name": "stderr",
     "output_type": "stream",
     "text": [
      "                                                                                \r"
     ]
    }
   ],
   "source": [
    "process(spark, \"charts_daily_genres\", \"\"\"\n",
    "SELECT\n",
    "    region,\n",
    "    date,\n",
    "    COALESCE(MAX(CASE WHEN genre = 'pop' THEN total_streams END), 0) AS pop,\n",
    "    COALESCE(MAX(CASE WHEN genre = 'rap' THEN total_streams END), 0) AS rap,\n",
    "    COALESCE(MAX(CASE WHEN genre = 'rock' THEN total_streams END), 0) AS rock,\n",
    "    COALESCE(MAX(CASE WHEN genre = 'edm' THEN total_streams END), 0) AS edm,\n",
    "    COALESCE(MAX(CASE WHEN genre = 'hip hop' THEN total_streams END), 0) AS hip_hop,\n",
    "    COALESCE(MAX(CASE WHEN genre = 'trap latino' THEN total_streams END), 0) AS trap_latino,\n",
    "    COALESCE(MAX(CASE WHEN genre = 'reggaeton' THEN total_streams END), 0) AS reggaeton,\n",
    "    COALESCE(MAX(CASE WHEN genre = 'electropop' THEN total_streams END), 0) AS electropop,\n",
    "    COALESCE(MAX(CASE WHEN genre = 'dance pop' THEN total_streams END), 0) AS dance_pop,\n",
    "    COALESCE(MAX(CASE WHEN genre = 'pop rap' THEN total_streams END), 0) AS pop_rap,\n",
    "    COALESCE(MAX(CASE WHEN genre = 'musica mexicana' THEN total_streams END), 0) AS musica_mexicana,\n",
    "    COALESCE(MAX(CASE WHEN genre = 'trap' THEN total_streams END), 0) AS trap,\n",
    "    COALESCE(MAX(CASE WHEN genre = 'modern rock' THEN total_streams END), 0) AS modern_rock,\n",
    "    COALESCE(MAX(CASE WHEN genre = 'classic rock' THEN total_streams END), 0) AS classic_rock,\n",
    "    COALESCE(MAX(CASE WHEN genre = 'uk pop' THEN total_streams END), 0) AS uk_pop,\n",
    "    COALESCE(MAX(CASE WHEN genre = 'k-pop' THEN total_streams END), 0) AS k_pop,\n",
    "    COALESCE(MAX(CASE WHEN genre = 'tropical house' THEN total_streams END), 0) AS tropical_house,\n",
    "    COALESCE(MAX(CASE WHEN genre = 'melodic rap' THEN total_streams END), 0) AS melodic_rap,\n",
    "    COALESCE(MAX(CASE WHEN genre = 'canadian pop' THEN total_streams END), 0) AS canadian_pop,\n",
    "    COALESCE(MAX(CASE WHEN genre = 'modern bollywood' THEN total_streams END), 0) AS modern_bollywood\n",
    "FROM (\n",
    "    SELECT\n",
    "        region,\n",
    "        date,\n",
    "        genre,\n",
    "        SUM(streams) AS total_streams\n",
    "    FROM charts_genres\n",
    "    WHERE genre IN ('pop', 'rap', 'rock', 'edm', 'hip hop', 'trap latino', 'reggaeton', 'electropop', 'dance pop', 'pop rap', 'musica mexicana', 'trap', 'modern rock', 'classic rock', 'uk pop', 'k-pop', 'tropical house', 'melodic rap', 'canadian pop', 'modern bollywood')\n",
    "    GROUP BY region, date, genre\n",
    ")\n",
    "GROUP BY region, date\n",
    "ORDER BY region, date\n",
    "\"\"\")"
   ]
  },
  {
   "cell_type": "code",
   "execution_count": 5,
   "id": "46c9fd59-127b-4dd0-b2c0-ce67adbf4338",
   "metadata": {},
   "outputs": [],
   "source": [
    "spark.stop()"
   ]
  }
 ],
 "metadata": {
  "kernelspec": {
   "display_name": "Python 3 (ipykernel)",
   "language": "python",
   "name": "python3"
  },
  "language_info": {
   "codemirror_mode": {
    "name": "ipython",
    "version": 3
   },
   "file_extension": ".py",
   "mimetype": "text/x-python",
   "name": "python",
   "nbconvert_exporter": "python",
   "pygments_lexer": "ipython3",
   "version": "3.11.2"
  }
 },
 "nbformat": 4,
 "nbformat_minor": 5
}
