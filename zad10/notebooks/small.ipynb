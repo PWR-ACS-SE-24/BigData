{
 "cells": [
  {
   "cell_type": "code",
   "execution_count": 1,
   "id": "b030aa35-b5ff-4850-80a1-ab17dd734add",
   "metadata": {},
   "outputs": [],
   "source": [
    "from zad11 import connect, example, load_table, process"
   ]
  },
  {
   "cell_type": "code",
   "execution_count": 2,
   "id": "84f2803c-23d9-4ef9-892c-59bc41fa0568",
   "metadata": {},
   "outputs": [
    {
     "name": "stdout",
     "output_type": "stream",
     "text": [
      "Connecting to Spark...\n"
     ]
    },
    {
     "name": "stderr",
     "output_type": "stream",
     "text": [
      "Setting default log level to \"WARN\".\n",
      "To adjust logging level use sc.setLogLevel(newLevel). For SparkR, use setLogLevel(newLevel).\n",
      "25/06/09 20:30:46 WARN NativeCodeLoader: Unable to load native-hadoop library for your platform... using builtin-java classes where applicable\n",
      "25/06/09 20:30:51 WARN Client: Neither spark.yarn.jars nor spark.yarn.archive is set, falling back to uploading libraries under SPARK_HOME.\n"
     ]
    },
    {
     "data": {
      "text/html": [
       "\n",
       "            <div>\n",
       "                <p><b>SparkSession - in-memory</b></p>\n",
       "                \n",
       "        <div>\n",
       "            <p><b>SparkContext</b></p>\n",
       "\n",
       "            <p><a href=\"http://jupyter-lab:4040\">Spark UI</a></p>\n",
       "\n",
       "            <dl>\n",
       "              <dt>Version</dt>\n",
       "                <dd><code>v3.4.0</code></dd>\n",
       "              <dt>Master</dt>\n",
       "                <dd><code>yarn</code></dd>\n",
       "              <dt>AppName</dt>\n",
       "                <dd><code>Zad11</code></dd>\n",
       "            </dl>\n",
       "        </div>\n",
       "        \n",
       "            </div>\n",
       "        "
      ],
      "text/plain": [
       "<pyspark.sql.session.SparkSession at 0x78733a70f7d0>"
      ]
     },
     "metadata": {},
     "output_type": "display_data"
    }
   ],
   "source": [
    "spark = connect()"
   ]
  },
  {
   "cell_type": "code",
   "execution_count": 3,
   "id": "0f066fc7-c820-4742-9eca-4b82c972a86b",
   "metadata": {},
   "outputs": [
    {
     "name": "stdout",
     "output_type": "stream",
     "text": [
      "Loading '/input/charts_fmt_small.csv' into table 'charts_fmt_small'...\n"
     ]
    },
    {
     "name": "stderr",
     "output_type": "stream",
     "text": [
      "                                                                                \r"
     ]
    },
    {
     "name": "stdout",
     "output_type": "stream",
     "text": [
      "Loading '/input/api_track_to_artist_small.csv' into table 'api_track_to_artist_small'...\n"
     ]
    },
    {
     "name": "stderr",
     "output_type": "stream",
     "text": [
      "                                                                                \r"
     ]
    },
    {
     "name": "stdout",
     "output_type": "stream",
     "text": [
      "Loading '/input/api_track_to_genre_small.csv' into table 'api_track_to_genre_small'...\n",
      "Loading '/input/charts_daily_sum_small.csv' into table 'charts_daily_sum_small'...\n",
      "Loading '/input/charts_daily_popularity_small.csv' into table 'charts_daily_popularity_small'...\n",
      "Loading '/input/daily_country_weather_small.csv' into table 'daily_country_weather_small'...\n",
      "Loading '/input/wdi_interpolated_small.csv' into table 'wdi_interpolated_small'...\n"
     ]
    },
    {
     "data": {
      "text/plain": [
       "DataFrame[country: string, date: string, rural_population_percent: string, fertility_rate: string, gdp_per_capita_usd: string, mobile_subscriptions_per_100: string, refugee_population_promille: string]"
      ]
     },
     "execution_count": 3,
     "metadata": {},
     "output_type": "execute_result"
    }
   ],
   "source": [
    "load_table(spark, \"/input/charts_fmt_small.csv\")\n",
    "load_table(spark, \"/input/api_track_to_artist_small.csv\")\n",
    "load_table(spark, \"/input/api_track_to_genre_small.csv\")\n",
    "load_table(spark, \"/input/charts_daily_sum_small.csv\")\n",
    "load_table(spark, \"/input/charts_daily_popularity_small.csv\")\n",
    "load_table(spark, \"/input/daily_country_weather_small.csv\")\n",
    "load_table(spark, \"/input/wdi_interpolated_small.csv\")"
   ]
  },
  {
   "cell_type": "code",
   "execution_count": 4,
   "id": "d29ba2dd-ee85-4cc9-878f-c90cd76ab001",
   "metadata": {},
   "outputs": [
    {
     "name": "stdout",
     "output_type": "stream",
     "text": [
      "Processing query and saving to '/charts_artists_small/*'...\n"
     ]
    },
    {
     "name": "stderr",
     "output_type": "stream",
     "text": [
      "                                                                                \r"
     ]
    },
    {
     "name": "stdout",
     "output_type": "stream",
     "text": [
      "+---------+----------+--------------------+-------+\n",
      "|   region|      date|           artist_id|streams|\n",
      "+---------+----------+--------------------+-------+\n",
      "|Argentina|2017-01-01|818ef62dce0d768b9...| 223988|\n",
      "|Argentina|2017-01-01|8c5b8ea2f957eef56...| 223988|\n",
      "|Argentina|2017-01-01|6c6e7227e205e6faa...| 210943|\n",
      "|Argentina|2017-01-01|02b6698efb5bcf3dc...| 173865|\n",
      "|Argentina|2017-01-01|23a2193a36b72b1eb...| 173865|\n",
      "|Argentina|2017-01-01|dca432e1624d923de...| 173865|\n",
      "|Argentina|2017-01-01|82594863c7df01a95...| 173865|\n",
      "|Argentina|2017-01-01|ed73022e38d784475...| 153956|\n",
      "|   Poland|2017-01-01|6175b9f6699984f1e...|  25198|\n",
      "|   Poland|2017-01-01|8ee2c0adee9548498...|  25198|\n",
      "|   Poland|2017-01-01|309b74a8a61cadf95...|  23163|\n",
      "|   Poland|2017-01-01|b9fbeb7e58125ff49...|  23163|\n",
      "|   Poland|2017-01-01|7cc13a578cbab14ed...|  23163|\n",
      "|   Poland|2017-01-01|3eb0c531dd779dd40...|  24642|\n",
      "|   Poland|2017-01-01|16fd20c388393f6f0...|  24642|\n",
      "|   Poland|2017-01-01|ba4c94bc384c116dd...|  24630|\n",
      "|   Poland|2017-01-01|02b09bfbfa2f11d4c...|  24630|\n",
      "|   Poland|2017-01-01|cc56ee73e45f0546f...|  26290|\n",
      "|   Poland|2017-01-01|24b9298a187e48162...|  26290|\n",
      "+---------+----------+--------------------+-------+\n",
      "\n",
      "Execution time: 2.612 seconds\n"
     ]
    },
    {
     "name": "stderr",
     "output_type": "stream",
     "text": [
      "                                                                                \r"
     ]
    }
   ],
   "source": [
    "process(spark, \"charts_artists_small\", \"\"\"\n",
    "SELECT\n",
    "    c.region,\n",
    "    c.date,\n",
    "    MD5(a.artist) AS artist_id,\n",
    "    c.streams\n",
    "FROM charts_fmt_small AS c\n",
    "JOIN api_track_to_artist_small AS a\n",
    "    ON c.track_id = a.track_id\n",
    "ORDER BY c.region\n",
    "\"\"\")"
   ]
  },
  {
   "cell_type": "code",
   "execution_count": 5,
   "id": "73035cd9-7607-4e6e-980b-d2b619d84174",
   "metadata": {},
   "outputs": [
    {
     "name": "stdout",
     "output_type": "stream",
     "text": [
      "Processing query and saving to '/charts_genres_small/*'...\n",
      "+---------+----------+--------------------+-------+\n",
      "|   region|      date|               genre|streams|\n",
      "+---------+----------+--------------------+-------+\n",
      "|Argentina|2017-01-01|           reggaeton| 173865|\n",
      "|Argentina|2017-01-01|         trap latino| 153956|\n",
      "|Argentina|2017-01-01|           viral rap| 173865|\n",
      "|Argentina|2017-01-01|            boy band| 210943|\n",
      "|Argentina|2017-01-01|           reggaeton| 210943|\n",
      "|Argentina|2017-01-01|             pop rap| 173865|\n",
      "|Argentina|2017-01-01|           latin pop| 210943|\n",
      "|Argentina|2017-01-01|      reggaeton flow| 173865|\n",
      "|Argentina|2017-01-01|           dance pop| 223988|\n",
      "|Argentina|2017-01-01|          rap latina| 173865|\n",
      "|Argentina|2017-01-01|           reggaeton| 223988|\n",
      "|Argentina|2017-01-01|reggaeton colombiano| 173865|\n",
      "|Argentina|2017-01-01|    puerto rican pop| 223988|\n",
      "|Argentina|2017-01-01|                 r&b| 173865|\n",
      "|Argentina|2017-01-01|           latin pop| 223988|\n",
      "|Argentina|2017-01-01|                 rap| 173865|\n",
      "|Argentina|2017-01-01|         mexican pop| 223988|\n",
      "|Argentina|2017-01-01|          trap queen| 173865|\n",
      "|Argentina|2017-01-01|reggaeton colombiano| 223988|\n",
      "|Argentina|2017-01-01|         trap latino| 223988|\n",
      "+---------+----------+--------------------+-------+\n",
      "only showing top 20 rows\n",
      "\n",
      "Execution time: 0.894 seconds\n"
     ]
    },
    {
     "name": "stderr",
     "output_type": "stream",
     "text": [
      "                                                                                \r"
     ]
    }
   ],
   "source": [
    "process(spark, \"charts_genres_small\", \"\"\"\n",
    "SELECT\n",
    "    c.region,\n",
    "    c.date,\n",
    "    t.genre,\n",
    "    c.streams\n",
    "FROM charts_fmt_small AS c\n",
    "JOIN api_track_to_genre_small AS t\n",
    "    ON c.track_id = t.track_id\n",
    "ORDER BY c.region\n",
    "\"\"\")"
   ]
  },
  {
   "cell_type": "code",
   "execution_count": 6,
   "id": "feb5724e-c5e4-41ad-9e41-556eab04a054",
   "metadata": {},
   "outputs": [
    {
     "name": "stdout",
     "output_type": "stream",
     "text": [
      "Processing query and saving to '/charts_daily_genres_small/*'...\n"
     ]
    },
    {
     "name": "stderr",
     "output_type": "stream",
     "text": [
      "                                                                                \r"
     ]
    },
    {
     "name": "stdout",
     "output_type": "stream",
     "text": [
      "+---------+----------+-------+--------+----+-------+--------+-----------+---------+----------+---------+--------+---------------+----+-----------+------------+-------+-----+--------------+-----------+------------+----------------+\n",
      "|   region|      date|    pop|     rap|rock|    edm| hip_hop|trap_latino|reggaeton|electropop|dance_pop| pop_rap|musica_mexicana|trap|modern_rock|classic_rock| uk_pop|k_pop|tropical_house|melodic_rap|canadian_pop|modern_bollywood|\n",
      "+---------+----------+-------+--------+----+-------+--------+-----------+---------+----------+---------+--------+---------------+----+-----------+------------+-------+-----+--------------+-----------+------------+----------------+\n",
      "|Argentina|2017-01-01|    0.0|173865.0| 0.0|    0.0|173865.0|   551809.0| 762752.0|       0.0| 223988.0|173865.0|            0.0| 0.0|        0.0|         0.0|    0.0|  0.0|           0.0|        0.0|         0.0|             0.0|\n",
      "|   Poland|2017-01-01|99293.0|     0.0| 0.0|74095.0|     0.0|        0.0|      0.0|   24642.0|  74095.0| 49453.0|            0.0| 0.0|        0.0|         0.0|23163.0|  0.0|       47805.0|        0.0|     51488.0|             0.0|\n",
      "+---------+----------+-------+--------+----+-------+--------+-----------+---------+----------+---------+--------+---------------+----+-----------+------------+-------+-----+--------------+-----------+------------+----------------+\n",
      "\n",
      "Execution time: 4.171 seconds\n"
     ]
    },
    {
     "name": "stderr",
     "output_type": "stream",
     "text": [
      "                                                                                \r"
     ]
    }
   ],
   "source": [
    "process(spark, \"charts_daily_genres_small\", \"\"\"\n",
    "SELECT\n",
    "    region,\n",
    "    date,\n",
    "    COALESCE(MAX(CASE WHEN genre = 'pop' THEN total_streams END), 0) AS pop,\n",
    "    COALESCE(MAX(CASE WHEN genre = 'rap' THEN total_streams END), 0) AS rap,\n",
    "    COALESCE(MAX(CASE WHEN genre = 'rock' THEN total_streams END), 0) AS rock,\n",
    "    COALESCE(MAX(CASE WHEN genre = 'edm' THEN total_streams END), 0) AS edm,\n",
    "    COALESCE(MAX(CASE WHEN genre = 'hip hop' THEN total_streams END), 0) AS hip_hop,\n",
    "    COALESCE(MAX(CASE WHEN genre = 'trap latino' THEN total_streams END), 0) AS trap_latino,\n",
    "    COALESCE(MAX(CASE WHEN genre = 'reggaeton' THEN total_streams END), 0) AS reggaeton,\n",
    "    COALESCE(MAX(CASE WHEN genre = 'electropop' THEN total_streams END), 0) AS electropop,\n",
    "    COALESCE(MAX(CASE WHEN genre = 'dance pop' THEN total_streams END), 0) AS dance_pop,\n",
    "    COALESCE(MAX(CASE WHEN genre = 'pop rap' THEN total_streams END), 0) AS pop_rap,\n",
    "    COALESCE(MAX(CASE WHEN genre = 'musica mexicana' THEN total_streams END), 0) AS musica_mexicana,\n",
    "    COALESCE(MAX(CASE WHEN genre = 'trap' THEN total_streams END), 0) AS trap,\n",
    "    COALESCE(MAX(CASE WHEN genre = 'modern rock' THEN total_streams END), 0) AS modern_rock,\n",
    "    COALESCE(MAX(CASE WHEN genre = 'classic rock' THEN total_streams END), 0) AS classic_rock,\n",
    "    COALESCE(MAX(CASE WHEN genre = 'uk pop' THEN total_streams END), 0) AS uk_pop,\n",
    "    COALESCE(MAX(CASE WHEN genre = 'k-pop' THEN total_streams END), 0) AS k_pop,\n",
    "    COALESCE(MAX(CASE WHEN genre = 'tropical house' THEN total_streams END), 0) AS tropical_house,\n",
    "    COALESCE(MAX(CASE WHEN genre = 'melodic rap' THEN total_streams END), 0) AS melodic_rap,\n",
    "    COALESCE(MAX(CASE WHEN genre = 'canadian pop' THEN total_streams END), 0) AS canadian_pop,\n",
    "    COALESCE(MAX(CASE WHEN genre = 'modern bollywood' THEN total_streams END), 0) AS modern_bollywood\n",
    "FROM (\n",
    "    SELECT\n",
    "        region,\n",
    "        date,\n",
    "        genre,\n",
    "        SUM(streams) AS total_streams\n",
    "    FROM charts_genres_small\n",
    "    WHERE genre IN ('pop', 'rap', 'rock', 'edm', 'hip hop', 'trap latino', 'reggaeton', 'electropop', 'dance pop', 'pop rap', 'musica mexicana', 'trap', 'modern rock', 'classic rock', 'uk pop', 'k-pop', 'tropical house', 'melodic rap', 'canadian pop', 'modern bollywood')\n",
    "    GROUP BY region, date, genre\n",
    ")\n",
    "GROUP BY region, date\n",
    "ORDER BY region, date\n",
    "\"\"\")"
   ]
  },
  {
   "cell_type": "code",
   "execution_count": 7,
   "id": "c0c87151-9975-4f20-b3fa-01a700099a9a",
   "metadata": {},
   "outputs": [
    {
     "name": "stdout",
     "output_type": "stream",
     "text": [
      "Processing query and saving to '/charts_genre_popularity_small/*'...\n"
     ]
    },
    {
     "name": "stderr",
     "output_type": "stream",
     "text": [
      "                                                                                \r"
     ]
    },
    {
     "name": "stdout",
     "output_type": "stream",
     "text": [
      "+---------+----------+------------------+-------------------+----+------------------+-------------------+------------------+------------------+-------------------+-------------------+-------------------+---------------+----+-----------+------------+-------------------+-----+------------------+-----------+-------------------+----------------+\n",
      "|   region|      date|               pop|                rap|rock|               edm|            hip_hop|       trap_latino|         reggaeton|         electropop|          dance_pop|            pop_rap|musica_mexicana|trap|modern_rock|classic_rock|             uk_pop|k_pop|    tropical_house|melodic_rap|       canadian_pop|modern_bollywood|\n",
      "+---------+----------+------------------+-------------------+----+------------------+-------------------+------------------+------------------+-------------------+-------------------+-------------------+---------------+----+-----------+------------+-------------------+-----+------------------+-----------+-------------------+----------------+\n",
      "|Argentina|2017-01-01|               0.0|0.17116554814027965| 0.0|               0.0|0.17116554814027965|0.5432415377087946|0.7509094077306795|                0.0|0.22051033156095223|0.17116554814027965|            0.0| 0.0|        0.0|         0.0|                0.0|  0.0|               0.0|        0.0|                0.0|             0.0|\n",
      "|   Poland|2017-01-01|0.8012475488811601|                0.0| 0.0|0.5979116064007488|                0.0|               0.0|               0.0|0.19884928544338015| 0.5979116064007488| 0.3990623209573687|            0.0| 0.0|        0.0|         0.0|0.18691445494379574|  0.0|0.3857637403871759|        0.0|0.41548380849398414|             0.0|\n",
      "+---------+----------+------------------+-------------------+----+------------------+-------------------+------------------+------------------+-------------------+-------------------+-------------------+---------------+----+-----------+------------+-------------------+-----+------------------+-----------+-------------------+----------------+\n",
      "\n",
      "Execution time: 2.334 seconds\n"
     ]
    },
    {
     "name": "stderr",
     "output_type": "stream",
     "text": [
      "                                                                                \r"
     ]
    }
   ],
   "source": [
    "process(spark, \"charts_genre_popularity_small\", \"\"\"\n",
    "SELECT\n",
    "    g.region,\n",
    "    g.date,\n",
    "    g.pop / s.streams AS pop,\n",
    "    g.rap / s.streams AS rap,\n",
    "    g.rock / s.streams AS rock,\n",
    "    g.edm / s.streams AS edm,\n",
    "    g.hip_hop / s.streams AS hip_hop,\n",
    "    g.trap_latino / s.streams AS trap_latino,\n",
    "    g.reggaeton / s.streams AS reggaeton,\n",
    "    g.electropop / s.streams AS electropop,\n",
    "    g.dance_pop / s.streams AS dance_pop,\n",
    "    g.pop_rap / s.streams AS pop_rap,\n",
    "    g.musica_mexicana / s.streams AS musica_mexicana,\n",
    "    g.trap / s.streams AS trap,\n",
    "    g.modern_rock / s.streams AS modern_rock,\n",
    "    g.classic_rock / s.streams AS classic_rock,\n",
    "    g.uk_pop / s.streams AS uk_pop,\n",
    "    g.k_pop / s.streams AS k_pop,\n",
    "    g.tropical_house / s.streams AS tropical_house,\n",
    "    g.melodic_rap / s.streams AS melodic_rap,\n",
    "    g.canadian_pop / s.streams AS canadian_pop,\n",
    "    g.modern_bollywood / s.streams AS modern_bollywood\n",
    "FROM charts_daily_genres_small AS g\n",
    "JOIN charts_daily_sum_small AS s\n",
    "    ON g.region = s.region AND g.date = s.date\n",
    "\"\"\")"
   ]
  },
  {
   "cell_type": "code",
   "execution_count": 8,
   "id": "e2b6b273-a145-46f7-ba6a-b2a9ebaa7b1e",
   "metadata": {},
   "outputs": [
    {
     "name": "stdout",
     "output_type": "stream",
     "text": [
      "Processing query and saving to '/output_small/*'...\n"
     ]
    },
    {
     "name": "stderr",
     "output_type": "stream",
     "text": [
      "25/06/09 20:32:25 WARN package: Truncated the string representation of a plan since it was too large. This behavior can be adjusted by setting 'spark.sql.debug.maxToStringFields'.\n"
     ]
    },
    {
     "name": "stdout",
     "output_type": "stream",
     "text": [
      "+---------+----------+-------------+----------------+------------------+----------------+----------------------------+------------------+----------------------+--------------------------------+-------------------------------+------------------+-------------------+----------+------------------+-------------------+------------------+------------------+-------------------+-------------------+-------------------+---------------------+----------+-----------------+------------------+-------------------+-----------+--------------------+-----------------+-------------------+----------------------+\n",
      "|  country|      date|daily_streams|daily_popularity|     temperature_c|precipitation_mm|wdi:rural_population_percent|wdi:fertility_rate|wdi:gdp_per_capita_usd|wdi:mobile_subscriptions_per_100|wdi:refugee_population_promille|         genre:pop|          genre:rap|genre:rock|         genre:edm|      genre:hip_hop| genre:trap_latino|   genre:reggaeton|   genre:electropop|    genre:dance_pop|      genre:pop_rap|genre:musica_mexicana|genre:trap|genre:modern_rock|genre:classic_rock|       genre:uk_pop|genre:k_pop|genre:tropical_house|genre:melodic_rap| genre:canadian_pop|genre:modern_bollywood|\n",
      "+---------+----------+-------------+----------------+------------------+----------------+----------------------------+------------------+----------------------+--------------------------------+-------------------------------+------------------+-------------------+----------+------------------+-------------------+------------------+------------------+-------------------+-------------------+-------------------+---------------------+----------+-----------------+------------------+-------------------+-----------+--------------------+-----------------+-------------------+----------------------+\n",
      "|Argentina|2017-01-01|      1015771|         AVERAGE|26.084999999999997|            11.0|           8.372665753424657|            2.2408|     12795.23644407049|               145.9031169849315|            0.07494967452275388|               0.0|0.17116554814027965|       0.0|               0.0|0.17116554814027965|0.5432415377087946|0.7509094077306795|                0.0|0.22051033156095223|0.17116554814027965|                  0.0|       0.0|              0.0|               0.0|                0.0|        0.0|                 0.0|              0.0|                0.0|                   0.0|\n",
      "|   Poland|2017-01-01|       123923|         AVERAGE|0.5777777777777778|          0.0375|                     39.8222|1.3902465753424658|     12382.69604662878|               137.5341305038356|             0.3091731147958112|0.8012475488811601|                0.0|       0.0|0.5979116064007488|                0.0|               0.0|               0.0|0.19884928544338015| 0.5979116064007488| 0.3990623209573687|                  0.0|       0.0|              0.0|               0.0|0.18691445494379574|        0.0|  0.3857637403871759|              0.0|0.41548380849398414|                   0.0|\n",
      "+---------+----------+-------------+----------------+------------------+----------------+----------------------------+------------------+----------------------+--------------------------------+-------------------------------+------------------+-------------------+----------+------------------+-------------------+------------------+------------------+-------------------+-------------------+-------------------+---------------------+----------+-----------------+------------------+-------------------+-----------+--------------------+-----------------+-------------------+----------------------+\n",
      "\n",
      "Execution time: 2.034 seconds\n"
     ]
    },
    {
     "name": "stderr",
     "output_type": "stream",
     "text": [
      "                                                                                \r"
     ]
    }
   ],
   "source": [
    "process(spark, \"output_small\", \"\"\"\n",
    "SELECT\n",
    "    cgp.region AS country,\n",
    "    cgp.date,\n",
    "    cds.streams AS daily_streams,\n",
    "    cdp.popularity AS daily_popularity,\n",
    "    dcw.temperature_c AS temperature_c,\n",
    "    dcw.precipitation_mm AS precipitation_mm,\n",
    "    wdi.rural_population_percent AS `wdi:rural_population_percent`,\n",
    "    wdi.fertility_rate AS `wdi:fertility_rate`,\n",
    "    wdi.gdp_per_capita_usd AS `wdi:gdp_per_capita_usd`,\n",
    "    wdi.mobile_subscriptions_per_100 AS `wdi:mobile_subscriptions_per_100`,\n",
    "    wdi.refugee_population_promille AS `wdi:refugee_population_promille`,\n",
    "    cgp.pop AS `genre:pop`,\n",
    "    cgp.rap AS `genre:rap`,\n",
    "    cgp.rock AS `genre:rock`,\n",
    "    cgp.edm AS `genre:edm`,\n",
    "    cgp.hip_hop AS `genre:hip_hop`,\n",
    "    cgp.trap_latino AS `genre:trap_latino`,\n",
    "    cgp.reggaeton AS `genre:reggaeton`,\n",
    "    cgp.electropop AS `genre:electropop`,\n",
    "    cgp.dance_pop AS `genre:dance_pop`,\n",
    "    cgp.pop_rap AS `genre:pop_rap`,\n",
    "    cgp.musica_mexicana AS `genre:musica_mexicana`,\n",
    "    cgp.trap AS `genre:trap`,\n",
    "    cgp.modern_rock AS `genre:modern_rock`,\n",
    "    cgp.classic_rock AS `genre:classic_rock`,\n",
    "    cgp.uk_pop AS `genre:uk_pop`,\n",
    "    cgp.k_pop AS `genre:k_pop`,\n",
    "    cgp.tropical_house AS `genre:tropical_house`,\n",
    "    cgp.melodic_rap AS `genre:melodic_rap`,\n",
    "    cgp.canadian_pop AS `genre:canadian_pop`,\n",
    "    cgp.modern_bollywood AS `genre:modern_bollywood`\n",
    "FROM charts_genre_popularity_small AS cgp\n",
    "JOIN charts_daily_popularity_small AS cdp\n",
    "    ON cgp.region = cdp.region AND cgp.date = cdp.date\n",
    "JOIN charts_daily_sum_small AS cds\n",
    "    ON cgp.region = cds.region AND cgp.date = cds.date\n",
    "JOIN daily_country_weather_small AS dcw\n",
    "    ON cgp.region = dcw.country AND cgp.date = dcw.date\n",
    "JOIN wdi_interpolated_small AS wdi\n",
    "    ON cgp.region = wdi.country AND cgp.date = wdi.date\n",
    "ORDER BY cgp.region, cgp.date\n",
    "\"\"\")"
   ]
  },
  {
   "cell_type": "code",
   "execution_count": 9,
   "id": "f76832df-e2af-49b4-a6dc-f4fa83fc1b69",
   "metadata": {},
   "outputs": [
    {
     "name": "stdout",
     "output_type": "stream",
     "text": [
      "+---------+----------+----------------------+-------+\n",
      "|region   |date      |track_id              |streams|\n",
      "+---------+----------+----------------------+-------+\n",
      "|Argentina|2017-01-01|6mICuAdrwEjh6Y6lroV2Kg|253019 |\n",
      "|Argentina|2017-01-01|7DM4BPaS7uofFul3ywMe46|223988 |\n",
      "|Argentina|2017-01-01|3AEZUABDXNtecAOSC1qTfo|210943 |\n",
      "|Argentina|2017-01-01|6rQSrBHf7HlZjtcMZ4S4bO|173865 |\n",
      "|Argentina|2017-01-01|58IL315gMSTD37DOZPJ2hf|153956 |\n",
      "|Poland   |2017-01-01|4pdPtRcBmOSQDlJ3Fk945m|26290  |\n",
      "|Poland   |2017-01-01|5aAx2yezTd8zXrkmtKl66Z|25198  |\n",
      "|Poland   |2017-01-01|7BKLCZ1jbUBVqRi2FVlTVw|24642  |\n",
      "|Poland   |2017-01-01|7abpmGpF7PGep2rDU68GBR|24630  |\n",
      "|Poland   |2017-01-01|5knuzwU65gJK7IF5yJsuaW|23163  |\n",
      "+---------+----------+----------------------+-------+\n",
      "\n",
      "+----------------------+-----------------+\n",
      "|track_id              |artist           |\n",
      "+----------------------+-----------------+\n",
      "|5aAx2yezTd8zXrkmtKl66Z|The Weeknd       |\n",
      "|5aAx2yezTd8zXrkmtKl66Z|Daft Punk        |\n",
      "|7DM4BPaS7uofFul3ywMe46|Ricky Martin     |\n",
      "|7DM4BPaS7uofFul3ywMe46|Maluma           |\n",
      "|5knuzwU65gJK7IF5yJsuaW|Clean Bandit     |\n",
      "|5knuzwU65gJK7IF5yJsuaW|Sean Paul        |\n",
      "|5knuzwU65gJK7IF5yJsuaW|Anne-Marie       |\n",
      "|7BKLCZ1jbUBVqRi2FVlTVw|The Chainsmokers |\n",
      "|7BKLCZ1jbUBVqRi2FVlTVw|Halsey           |\n",
      "|3AEZUABDXNtecAOSC1qTfo|CNCO             |\n",
      "|6rQSrBHf7HlZjtcMZ4S4bO|J Balvin         |\n",
      "|6rQSrBHf7HlZjtcMZ4S4bO|Pharrell Williams|\n",
      "|6rQSrBHf7HlZjtcMZ4S4bO|BIA              |\n",
      "|6rQSrBHf7HlZjtcMZ4S4bO|Sky Rompiendo    |\n",
      "|7abpmGpF7PGep2rDU68GBR|Burak Yeter      |\n",
      "|7abpmGpF7PGep2rDU68GBR|Danelle Sandoval |\n",
      "|58IL315gMSTD37DOZPJ2hf|Daddy Yankee     |\n",
      "|4pdPtRcBmOSQDlJ3Fk945m|DJ Snake         |\n",
      "|4pdPtRcBmOSQDlJ3Fk945m|Justin Bieber    |\n",
      "+----------------------+-----------------+\n",
      "\n",
      "+---------+----------+--------------------------------+-------+\n",
      "|region   |date      |artist_id                       |streams|\n",
      "+---------+----------+--------------------------------+-------+\n",
      "|Argentina|2017-01-01|818ef62dce0d768b99a492012eacf18b|223988 |\n",
      "|Argentina|2017-01-01|8c5b8ea2f957eef56e1c23ac25bd48e3|223988 |\n",
      "|Argentina|2017-01-01|6c6e7227e205e6faa130531b2bb7351e|210943 |\n",
      "|Argentina|2017-01-01|02b6698efb5bcf3dc2009c9a838b8b96|173865 |\n",
      "|Argentina|2017-01-01|23a2193a36b72b1eba98b0bee269edde|173865 |\n",
      "|Argentina|2017-01-01|dca432e1624d923de268b0ab655a1e48|173865 |\n",
      "|Argentina|2017-01-01|82594863c7df01a9561a05de5ebe9d42|173865 |\n",
      "|Argentina|2017-01-01|ed73022e38d78447588e214e0d9b6a3f|153956 |\n",
      "|Poland   |2017-01-01|6175b9f6699984f1ede4bea3a5c30fe1|25198  |\n",
      "|Poland   |2017-01-01|8ee2c0adee9548498ef22cba1e90a49c|25198  |\n",
      "|Poland   |2017-01-01|309b74a8a61cadf954a140000b3c71f5|23163  |\n",
      "|Poland   |2017-01-01|b9fbeb7e58125ff49f7ff735d839cab5|23163  |\n",
      "|Poland   |2017-01-01|7cc13a578cbab14ed83e7b6b87f52aa3|23163  |\n",
      "|Poland   |2017-01-01|3eb0c531dd779dd405f1228a58ee9993|24642  |\n",
      "|Poland   |2017-01-01|16fd20c388393f6f0975940e1dd586b8|24642  |\n",
      "|Poland   |2017-01-01|ba4c94bc384c116dd322198cdb119621|24630  |\n",
      "|Poland   |2017-01-01|02b09bfbfa2f11d4ce1c992497835136|24630  |\n",
      "|Poland   |2017-01-01|cc56ee73e45f0546f16d6a8de1bcff67|26290  |\n",
      "|Poland   |2017-01-01|24b9298a187e48162094bf976c57f9f7|26290  |\n",
      "+---------+----------+--------------------------------+-------+\n",
      "\n",
      "+----------------------+-------------------------+\n",
      "|track_id              |genre                    |\n",
      "+----------------------+-------------------------+\n",
      "|4pdPtRcBmOSQDlJ3Fk945m|pop rap                  |\n",
      "|4pdPtRcBmOSQDlJ3Fk945m|pop                      |\n",
      "|4pdPtRcBmOSQDlJ3Fk945m|canadian pop             |\n",
      "|4pdPtRcBmOSQDlJ3Fk945m|pop dance                |\n",
      "|4pdPtRcBmOSQDlJ3Fk945m|electronic trap          |\n",
      "|4pdPtRcBmOSQDlJ3Fk945m|dance pop                |\n",
      "|4pdPtRcBmOSQDlJ3Fk945m|edm                      |\n",
      "|7BKLCZ1jbUBVqRi2FVlTVw|pop                      |\n",
      "|7BKLCZ1jbUBVqRi2FVlTVw|indie poptimism          |\n",
      "|7BKLCZ1jbUBVqRi2FVlTVw|etherpop                 |\n",
      "|7BKLCZ1jbUBVqRi2FVlTVw|pop dance                |\n",
      "|7BKLCZ1jbUBVqRi2FVlTVw|electropop               |\n",
      "|7BKLCZ1jbUBVqRi2FVlTVw|dance pop                |\n",
      "|7BKLCZ1jbUBVqRi2FVlTVw|tropical house           |\n",
      "|7BKLCZ1jbUBVqRi2FVlTVw|edm                      |\n",
      "|5aAx2yezTd8zXrkmtKl66Z|pop                      |\n",
      "|5aAx2yezTd8zXrkmtKl66Z|filter house             |\n",
      "|5aAx2yezTd8zXrkmtKl66Z|canadian pop             |\n",
      "|5aAx2yezTd8zXrkmtKl66Z|canadian contemporary r&b|\n",
      "|5aAx2yezTd8zXrkmtKl66Z|electro                  |\n",
      "|6rQSrBHf7HlZjtcMZ4S4bO|pop rap                  |\n",
      "|6rQSrBHf7HlZjtcMZ4S4bO|reggaeton                |\n",
      "|6rQSrBHf7HlZjtcMZ4S4bO|viral rap                |\n",
      "|6rQSrBHf7HlZjtcMZ4S4bO|rap                      |\n",
      "|6rQSrBHf7HlZjtcMZ4S4bO|reggaeton flow           |\n",
      "|6rQSrBHf7HlZjtcMZ4S4bO|hip hop                  |\n",
      "|6rQSrBHf7HlZjtcMZ4S4bO|rap latina               |\n",
      "|6rQSrBHf7HlZjtcMZ4S4bO|trap queen               |\n",
      "|6rQSrBHf7HlZjtcMZ4S4bO|reggaeton colombiano     |\n",
      "|6rQSrBHf7HlZjtcMZ4S4bO|trap latino              |\n",
      "|6rQSrBHf7HlZjtcMZ4S4bO|r&b                      |\n",
      "|3AEZUABDXNtecAOSC1qTfo|boy band                 |\n",
      "|3AEZUABDXNtecAOSC1qTfo|reggaeton                |\n",
      "|3AEZUABDXNtecAOSC1qTfo|latin pop                |\n",
      "|7abpmGpF7PGep2rDU68GBR|nyc pop                  |\n",
      "|7abpmGpF7PGep2rDU68GBR|electro house            |\n",
      "|5knuzwU65gJK7IF5yJsuaW|pop rap                  |\n",
      "|5knuzwU65gJK7IF5yJsuaW|pop                      |\n",
      "|5knuzwU65gJK7IF5yJsuaW|uk funky                 |\n",
      "|5knuzwU65gJK7IF5yJsuaW|dancehall                |\n",
      "|5knuzwU65gJK7IF5yJsuaW|uk pop                   |\n",
      "|5knuzwU65gJK7IF5yJsuaW|pop dance                |\n",
      "|5knuzwU65gJK7IF5yJsuaW|uk dance                 |\n",
      "|5knuzwU65gJK7IF5yJsuaW|dance pop                |\n",
      "|5knuzwU65gJK7IF5yJsuaW|edm                      |\n",
      "|5knuzwU65gJK7IF5yJsuaW|tropical house           |\n",
      "|5knuzwU65gJK7IF5yJsuaW|post-teen pop            |\n",
      "|7DM4BPaS7uofFul3ywMe46|dance pop                |\n",
      "|7DM4BPaS7uofFul3ywMe46|reggaeton                |\n",
      "|7DM4BPaS7uofFul3ywMe46|puerto rican pop         |\n",
      "|7DM4BPaS7uofFul3ywMe46|latin pop                |\n",
      "|7DM4BPaS7uofFul3ywMe46|mexican pop              |\n",
      "|7DM4BPaS7uofFul3ywMe46|reggaeton colombiano     |\n",
      "|7DM4BPaS7uofFul3ywMe46|trap latino              |\n",
      "|58IL315gMSTD37DOZPJ2hf|trap latino              |\n",
      "|58IL315gMSTD37DOZPJ2hf|latin hip hop            |\n",
      "|58IL315gMSTD37DOZPJ2hf|reggaeton                |\n",
      "+----------------------+-------------------------+\n",
      "\n",
      "+---------+----------+-------------------------+-------+\n",
      "|region   |date      |genre                    |streams|\n",
      "+---------+----------+-------------------------+-------+\n",
      "|Argentina|2017-01-01|pop rap                  |173865 |\n",
      "|Argentina|2017-01-01|reggaeton                |173865 |\n",
      "|Argentina|2017-01-01|viral rap                |173865 |\n",
      "|Argentina|2017-01-01|rap                      |173865 |\n",
      "|Argentina|2017-01-01|reggaeton flow           |173865 |\n",
      "|Argentina|2017-01-01|hip hop                  |173865 |\n",
      "|Argentina|2017-01-01|rap latina               |173865 |\n",
      "|Argentina|2017-01-01|trap queen               |173865 |\n",
      "|Argentina|2017-01-01|reggaeton colombiano     |173865 |\n",
      "|Argentina|2017-01-01|trap latino              |173865 |\n",
      "|Argentina|2017-01-01|r&b                      |173865 |\n",
      "|Argentina|2017-01-01|boy band                 |210943 |\n",
      "|Argentina|2017-01-01|reggaeton                |210943 |\n",
      "|Argentina|2017-01-01|latin pop                |210943 |\n",
      "|Argentina|2017-01-01|dance pop                |223988 |\n",
      "|Argentina|2017-01-01|reggaeton                |223988 |\n",
      "|Argentina|2017-01-01|puerto rican pop         |223988 |\n",
      "|Argentina|2017-01-01|latin pop                |223988 |\n",
      "|Argentina|2017-01-01|mexican pop              |223988 |\n",
      "|Argentina|2017-01-01|reggaeton colombiano     |223988 |\n",
      "|Argentina|2017-01-01|trap latino              |223988 |\n",
      "|Argentina|2017-01-01|trap latino              |153956 |\n",
      "|Argentina|2017-01-01|latin hip hop            |153956 |\n",
      "|Argentina|2017-01-01|reggaeton                |153956 |\n",
      "|Poland   |2017-01-01|pop rap                  |26290  |\n",
      "|Poland   |2017-01-01|pop                      |26290  |\n",
      "|Poland   |2017-01-01|canadian pop             |26290  |\n",
      "|Poland   |2017-01-01|pop dance                |26290  |\n",
      "|Poland   |2017-01-01|electronic trap          |26290  |\n",
      "|Poland   |2017-01-01|dance pop                |26290  |\n",
      "|Poland   |2017-01-01|edm                      |26290  |\n",
      "|Poland   |2017-01-01|pop                      |24642  |\n",
      "|Poland   |2017-01-01|indie poptimism          |24642  |\n",
      "|Poland   |2017-01-01|etherpop                 |24642  |\n",
      "|Poland   |2017-01-01|pop dance                |24642  |\n",
      "|Poland   |2017-01-01|electropop               |24642  |\n",
      "|Poland   |2017-01-01|dance pop                |24642  |\n",
      "|Poland   |2017-01-01|tropical house           |24642  |\n",
      "|Poland   |2017-01-01|edm                      |24642  |\n",
      "|Poland   |2017-01-01|pop                      |25198  |\n",
      "|Poland   |2017-01-01|filter house             |25198  |\n",
      "|Poland   |2017-01-01|canadian pop             |25198  |\n",
      "|Poland   |2017-01-01|canadian contemporary r&b|25198  |\n",
      "|Poland   |2017-01-01|electro                  |25198  |\n",
      "|Poland   |2017-01-01|nyc pop                  |24630  |\n",
      "|Poland   |2017-01-01|electro house            |24630  |\n",
      "|Poland   |2017-01-01|pop rap                  |23163  |\n",
      "|Poland   |2017-01-01|pop                      |23163  |\n",
      "|Poland   |2017-01-01|uk funky                 |23163  |\n",
      "|Poland   |2017-01-01|dancehall                |23163  |\n",
      "|Poland   |2017-01-01|uk pop                   |23163  |\n",
      "|Poland   |2017-01-01|pop dance                |23163  |\n",
      "|Poland   |2017-01-01|uk dance                 |23163  |\n",
      "|Poland   |2017-01-01|dance pop                |23163  |\n",
      "|Poland   |2017-01-01|edm                      |23163  |\n",
      "|Poland   |2017-01-01|tropical house           |23163  |\n",
      "|Poland   |2017-01-01|post-teen pop            |23163  |\n",
      "+---------+----------+-------------------------+-------+\n",
      "\n",
      "+---------+----------+-------+--------+----+-------+--------+-----------+---------+----------+---------+--------+---------------+----+-----------+------------+-------+-----+--------------+-----------+------------+----------------+\n",
      "|region   |date      |pop    |rap     |rock|edm    |hip_hop |trap_latino|reggaeton|electropop|dance_pop|pop_rap |musica_mexicana|trap|modern_rock|classic_rock|uk_pop |k_pop|tropical_house|melodic_rap|canadian_pop|modern_bollywood|\n",
      "+---------+----------+-------+--------+----+-------+--------+-----------+---------+----------+---------+--------+---------------+----+-----------+------------+-------+-----+--------------+-----------+------------+----------------+\n",
      "|Argentina|2017-01-01|0.0    |173865.0|0.0 |0.0    |173865.0|551809.0   |762752.0 |0.0       |223988.0 |173865.0|0.0            |0.0 |0.0        |0.0         |0.0    |0.0  |0.0           |0.0        |0.0         |0.0             |\n",
      "|Poland   |2017-01-01|99293.0|0.0     |0.0 |74095.0|0.0     |0.0        |0.0      |24642.0   |74095.0  |49453.0 |0.0            |0.0 |0.0        |0.0         |23163.0|0.0  |47805.0       |0.0        |51488.0     |0.0             |\n",
      "+---------+----------+-------+--------+----+-------+--------+-----------+---------+----------+---------+--------+---------------+----+-----------+------------+-------+-----+--------------+-----------+------------+----------------+\n",
      "\n",
      "+---------+----------+-------+\n",
      "|region   |date      |streams|\n",
      "+---------+----------+-------+\n",
      "|Argentina|2017-01-01|1015771|\n",
      "|Poland   |2017-01-01|123923 |\n",
      "+---------+----------+-------+\n",
      "\n",
      "+---------+----------+------------------+-------------------+----+------------------+-------------------+------------------+------------------+-------------------+-------------------+-------------------+---------------+----+-----------+------------+-------------------+-----+------------------+-----------+-------------------+----------------+\n",
      "|region   |date      |pop               |rap                |rock|edm               |hip_hop            |trap_latino       |reggaeton         |electropop         |dance_pop          |pop_rap            |musica_mexicana|trap|modern_rock|classic_rock|uk_pop             |k_pop|tropical_house    |melodic_rap|canadian_pop       |modern_bollywood|\n",
      "+---------+----------+------------------+-------------------+----+------------------+-------------------+------------------+------------------+-------------------+-------------------+-------------------+---------------+----+-----------+------------+-------------------+-----+------------------+-----------+-------------------+----------------+\n",
      "|Argentina|2017-01-01|0.0               |0.17116554814027965|0.0 |0.0               |0.17116554814027965|0.5432415377087946|0.7509094077306795|0.0                |0.22051033156095223|0.17116554814027965|0.0            |0.0 |0.0        |0.0         |0.0                |0.0  |0.0               |0.0        |0.0                |0.0             |\n",
      "|Poland   |2017-01-01|0.8012475488811601|0.0                |0.0 |0.5979116064007488|0.0                |0.0               |0.0               |0.19884928544338015|0.5979116064007488 |0.3990623209573687 |0.0            |0.0 |0.0        |0.0         |0.18691445494379574|0.0  |0.3857637403871759|0.0        |0.41548380849398414|0.0             |\n",
      "+---------+----------+------------------+-------------------+----+------------------+-------------------+------------------+------------------+-------------------+-------------------+-------------------+---------------+----+-----------+------------+-------------------+-----+------------------+-----------+-------------------+----------------+\n",
      "\n",
      "+---------+----------+----------+\n",
      "|region   |date      |popularity|\n",
      "+---------+----------+----------+\n",
      "|Argentina|2017-01-01|AVERAGE   |\n",
      "|Poland   |2017-01-01|AVERAGE   |\n",
      "+---------+----------+----------+\n",
      "\n",
      "+---------+----------+------------------+----------------+\n",
      "|country  |date      |temperature_c     |precipitation_mm|\n",
      "+---------+----------+------------------+----------------+\n",
      "|Argentina|2017-01-01|26.084999999999997|11.0            |\n",
      "|Poland   |2017-01-01|0.5777777777777778|0.0375          |\n",
      "+---------+----------+------------------+----------------+\n",
      "\n",
      "+---------+----------+------------------------+------------------+------------------+----------------------------+---------------------------+\n",
      "|country  |date      |rural_population_percent|fertility_rate    |gdp_per_capita_usd|mobile_subscriptions_per_100|refugee_population_promille|\n",
      "+---------+----------+------------------------+------------------+------------------+----------------------------+---------------------------+\n",
      "|Argentina|2017-01-01|8.372665753424657       |2.2408            |12795.23644407049 |145.9031169849315           |0.07494967452275388        |\n",
      "|Poland   |2017-01-01|39.8222                 |1.3902465753424658|12382.69604662878 |137.5341305038356           |0.3091731147958112         |\n",
      "+---------+----------+------------------------+------------------+------------------+----------------------------+---------------------------+\n",
      "\n"
     ]
    },
    {
     "name": "stderr",
     "output_type": "stream",
     "text": [
      "[Stage 96:>                                                         (0 + 1) / 1]\r"
     ]
    },
    {
     "name": "stdout",
     "output_type": "stream",
     "text": [
      "+---------+----------+-------------+----------------+------------------+----------------+----------------------------+------------------+----------------------+--------------------------------+-------------------------------+------------------+-------------------+----------+------------------+-------------------+------------------+------------------+-------------------+-------------------+-------------------+---------------------+----------+-----------------+------------------+-------------------+-----------+--------------------+-----------------+-------------------+----------------------+\n",
      "|country  |date      |daily_streams|daily_popularity|temperature_c     |precipitation_mm|wdi:rural_population_percent|wdi:fertility_rate|wdi:gdp_per_capita_usd|wdi:mobile_subscriptions_per_100|wdi:refugee_population_promille|genre:pop         |genre:rap          |genre:rock|genre:edm         |genre:hip_hop      |genre:trap_latino |genre:reggaeton   |genre:electropop   |genre:dance_pop    |genre:pop_rap      |genre:musica_mexicana|genre:trap|genre:modern_rock|genre:classic_rock|genre:uk_pop       |genre:k_pop|genre:tropical_house|genre:melodic_rap|genre:canadian_pop |genre:modern_bollywood|\n",
      "+---------+----------+-------------+----------------+------------------+----------------+----------------------------+------------------+----------------------+--------------------------------+-------------------------------+------------------+-------------------+----------+------------------+-------------------+------------------+------------------+-------------------+-------------------+-------------------+---------------------+----------+-----------------+------------------+-------------------+-----------+--------------------+-----------------+-------------------+----------------------+\n",
      "|Argentina|2017-01-01|1015771      |AVERAGE         |26.084999999999997|11.0            |8.372665753424657           |2.2408            |12795.23644407049     |145.9031169849315               |0.07494967452275388            |0.0               |0.17116554814027965|0.0       |0.0               |0.17116554814027965|0.5432415377087946|0.7509094077306795|0.0                |0.22051033156095223|0.17116554814027965|0.0                  |0.0       |0.0              |0.0               |0.0                |0.0        |0.0                 |0.0              |0.0                |0.0                   |\n",
      "|Poland   |2017-01-01|123923       |AVERAGE         |0.5777777777777778|0.0375          |39.8222                     |1.3902465753424658|12382.69604662878     |137.5341305038356               |0.3091731147958112             |0.8012475488811601|0.0                |0.0       |0.5979116064007488|0.0                |0.0               |0.0               |0.19884928544338015|0.5979116064007488 |0.3990623209573687 |0.0                  |0.0       |0.0              |0.0               |0.18691445494379574|0.0        |0.3857637403871759  |0.0              |0.41548380849398414|0.0                   |\n",
      "+---------+----------+-------------+----------------+------------------+----------------+----------------------------+------------------+----------------------+--------------------------------+-------------------------------+------------------+-------------------+----------+------------------+-------------------+------------------+------------------+-------------------+-------------------+-------------------+---------------------+----------+-----------------+------------------+-------------------+-----------+--------------------+-----------------+-------------------+----------------------+\n",
      "\n"
     ]
    },
    {
     "name": "stderr",
     "output_type": "stream",
     "text": [
      "                                                                                \r"
     ]
    }
   ],
   "source": [
    "example(spark, \"charts_fmt_small\")\n",
    "example(spark, \"api_track_to_artist_small\")\n",
    "example(spark, \"charts_artists_small\")\n",
    "example(spark, \"api_track_to_genre_small\")\n",
    "example(spark, \"charts_genres_small\")\n",
    "example(spark, \"charts_daily_genres_small\")\n",
    "example(spark, \"charts_daily_sum_small\")\n",
    "example(spark, \"charts_genre_popularity_small\")\n",
    "example(spark, \"charts_daily_popularity_small\")\n",
    "example(spark, \"daily_country_weather_small\")\n",
    "example(spark, \"wdi_interpolated_small\")\n",
    "example(spark, \"output_small\")"
   ]
  },
  {
   "cell_type": "code",
   "execution_count": 10,
   "id": "e00770ed-b6f8-45ac-a44d-c35bdeef9b7c",
   "metadata": {},
   "outputs": [],
   "source": [
    "spark.stop()"
   ]
  }
 ],
 "metadata": {
  "kernelspec": {
   "display_name": "Python 3 (ipykernel)",
   "language": "python",
   "name": "python3"
  },
  "language_info": {
   "codemirror_mode": {
    "name": "ipython",
    "version": 3
   },
   "file_extension": ".py",
   "mimetype": "text/x-python",
   "name": "python",
   "nbconvert_exporter": "python",
   "pygments_lexer": "ipython3",
   "version": "3.11.2"
  }
 },
 "nbformat": 4,
 "nbformat_minor": 5
}
