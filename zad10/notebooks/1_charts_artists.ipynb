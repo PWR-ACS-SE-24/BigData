{
 "cells": [
  {
   "cell_type": "code",
   "execution_count": 1,
   "id": "64c25e42-c70f-49d8-9d8a-54ca81174ae8",
   "metadata": {},
   "outputs": [],
   "source": [
    "from zad11 import connect, load_table, process"
   ]
  },
  {
   "cell_type": "code",
   "execution_count": null,
   "id": "8e8a6a59-6481-4a9a-a813-0e832158050a",
   "metadata": {},
   "outputs": [
    {
     "name": "stdout",
     "output_type": "stream",
     "text": [
      "Connecting to Spark...\n"
     ]
    },
    {
     "name": "stderr",
     "output_type": "stream",
     "text": [
      "25/06/10 09:08:00 WARN Client: Neither spark.yarn.jars nor spark.yarn.archive is set, falling back to uploading libraries under SPARK_HOME.\n"
     ]
    }
   ],
   "source": [
    "spark = connect()"
   ]
  },
  {
   "cell_type": "code",
   "execution_count": 3,
   "id": "a4b5a5ca-26d4-4ee1-8604-037a08c55517",
   "metadata": {},
   "outputs": [
    {
     "name": "stdout",
     "output_type": "stream",
     "text": [
      "Loading '/input/charts_fmt.csv' into table 'charts_fmt'...\n"
     ]
    },
    {
     "name": "stderr",
     "output_type": "stream",
     "text": [
      "                                                                                \r"
     ]
    },
    {
     "data": {
      "text/plain": [
       "DataFrame[region: string, date: string, track_id: string, streams: string]"
      ]
     },
     "execution_count": 3,
     "metadata": {},
     "output_type": "execute_result"
    }
   ],
   "source": [
    "load_table(spark, \"/input/charts_fmt.csv\", header=[\"region\", \"date\", \"track_id\", \"streams\"])"
   ]
  },
  {
   "cell_type": "code",
   "execution_count": 4,
   "id": "1d9d1274-dac7-4dfe-988c-d289f64e4288",
   "metadata": {},
   "outputs": [
    {
     "name": "stdout",
     "output_type": "stream",
     "text": [
      "Loading '/input/api_track_to_artist.csv' into table 'api_track_to_artist'...\n"
     ]
    },
    {
     "data": {
      "text/plain": [
       "DataFrame[track_id: string, artist: string]"
      ]
     },
     "execution_count": 4,
     "metadata": {},
     "output_type": "execute_result"
    }
   ],
   "source": [
    "load_table(spark, \"/input/api_track_to_artist.csv\")"
   ]
  },
  {
   "cell_type": "code",
   "execution_count": 5,
   "id": "ad04f872-d8c9-424c-b4d7-c21768e2fa52",
   "metadata": {},
   "outputs": [
    {
     "name": "stdout",
     "output_type": "stream",
     "text": [
      "Processing query and saving to '/charts_artists/*'...\n"
     ]
    },
    {
     "name": "stderr",
     "output_type": "stream",
     "text": [
      "                                                                                \r"
     ]
    },
    {
     "name": "stdout",
     "output_type": "stream",
     "text": [
      "Execution time: 20.638 seconds\n"
     ]
    },
    {
     "name": "stderr",
     "output_type": "stream",
     "text": [
      "                                                                                \r"
     ]
    },
    {
     "name": "stdout",
     "output_type": "stream",
     "text": [
      "+---------+----------+--------------------+-------+\n",
      "|   region|      date|           artist_id|streams|\n",
      "+---------+----------+--------------------+-------+\n",
      "|Argentina|2017-01-01|8c5b8ea2f957eef56...| 223988|\n",
      "|Argentina|2017-01-01|818ef62dce0d768b9...| 223988|\n",
      "|Argentina|2017-01-01|6c6e7227e205e6faa...| 210943|\n",
      "|Argentina|2017-01-01|82594863c7df01a95...| 173865|\n",
      "|Argentina|2017-01-01|dca432e1624d923de...| 173865|\n",
      "|Argentina|2017-01-01|23a2193a36b72b1eb...| 173865|\n",
      "|Argentina|2017-01-01|02b6698efb5bcf3dc...| 173865|\n",
      "|Argentina|2017-01-01|ed73022e38d784475...| 153956|\n",
      "|Argentina|2017-01-01|b21b801ead68a0dab...| 151140|\n",
      "|Argentina|2017-01-01|608a0f424e405dcec...| 148369|\n",
      "|Argentina|2017-01-01|02b6698efb5bcf3dc...| 143004|\n",
      "|Argentina|2017-01-01|e92865ef46354921e...| 143004|\n",
      "|Argentina|2017-01-01|ed73022e38d784475...| 110395|\n",
      "|Argentina|2017-01-01|812b7bc174d1e9ab4...| 110395|\n",
      "|Argentina|2017-01-01|8c5b8ea2f957eef56...| 104592|\n",
      "|Argentina|2017-01-01|dc3bea3887cc3d92b...| 104592|\n",
      "|Argentina|2017-01-01|8c5b8ea2f957eef56...| 101535|\n",
      "|Argentina|2017-01-01|ed73022e38d784475...|  99722|\n",
      "|Argentina|2017-01-01|71a90afedefb3bbe9...|  99722|\n",
      "|Argentina|2017-01-01|8c5b8ea2f957eef56...|  95010|\n",
      "+---------+----------+--------------------+-------+\n",
      "only showing top 20 rows\n",
      "\n"
     ]
    },
    {
     "name": "stderr",
     "output_type": "stream",
     "text": [
      "                                                                                \r"
     ]
    }
   ],
   "source": [
    "process(spark, \"charts_artists\", \"\"\"\n",
    "SELECT\n",
    "    c.region,\n",
    "    c.date,\n",
    "    MD5(a.artist) AS artist_id,\n",
    "    c.streams\n",
    "FROM charts_fmt AS c\n",
    "JOIN api_track_to_artist AS a\n",
    "    ON c.track_id = a.track_id\n",
    "\"\"\")"
   ]
  },
  {
   "cell_type": "code",
   "execution_count": 14,
   "id": "f7483464-2cc3-478d-b14c-2f9a80d8e0c6",
   "metadata": {},
   "outputs": [],
   "source": [
    "spark.stop()"
   ]
  },
  {
   "cell_type": "code",
   "execution_count": null,
   "id": "2a3bc8a8-5bc7-48a6-9dbe-f3f9f79d3f64",
   "metadata": {},
   "outputs": [],
   "source": []
  }
 ],
 "metadata": {
  "kernelspec": {
   "display_name": "Python 3 (ipykernel)",
   "language": "python",
   "name": "python3"
  },
  "language_info": {
   "codemirror_mode": {
    "name": "ipython",
    "version": 3
   },
   "file_extension": ".py",
   "mimetype": "text/x-python",
   "name": "python",
   "nbconvert_exporter": "python",
   "pygments_lexer": "ipython3",
   "version": "3.11.2"
  }
 },
 "nbformat": 4,
 "nbformat_minor": 5
}
